{
  "nbformat": 4,
  "nbformat_minor": 0,
  "metadata": {
    "colab": {
      "name": "flair_nlp_colab.ipynb",
      "version": "0.3.2",
      "provenance": [],
      "collapsed_sections": [],
      "include_colab_link": true
    },
    "kernelspec": {
      "name": "python3",
      "display_name": "Python 3"
    },
    "accelerator": "GPU"
  },
  "cells": [
    {
      "cell_type": "markdown",
      "metadata": {
        "id": "view-in-github",
        "colab_type": "text"
      },
      "source": [
        "<a href=\"https://colab.research.google.com/github/jloutz/Resume_NER/blob/master/flair_nlp_colab.ipynb\" target=\"_parent\"><img src=\"https://colab.research.google.com/assets/colab-badge.svg\" alt=\"Open In Colab\"/></a>"
      ]
    },
    {
      "cell_type": "markdown",
      "metadata": {
        "id": "sF_9MAOKPyAY",
        "colab_type": "text"
      },
      "source": [
        "Resume NER Part 4: Working with Flair NLP\n",
        "\n",
        "---\n",
        "\n",
        "In this part we will use flair NLP to train a model on our data and evaluate the results. Please make sure you have set up your Google account and uploaded your files to Google drive. This Notebook should run on Google Colab."
      ]
    },
    {
      "cell_type": "markdown",
      "metadata": {
        "id": "uXoVFeGlQdEu",
        "colab_type": "text"
      },
      "source": [
        "Let's change the working directory to the Google drive where our training data is, and install flair nlp. "
      ]
    },
    {
      "cell_type": "code",
      "metadata": {
        "id": "2zuCubbF-AQc",
        "colab_type": "code",
        "colab": {}
      },
      "source": [
        "from google.colab import drive\n",
        "drive.mount('/content/gdrive')"
      ],
      "execution_count": 0,
      "outputs": []
    },
    {
      "cell_type": "code",
      "metadata": {
        "id": "MXiOU9ihIHvX",
        "colab_type": "code",
        "colab": {}
      },
      "source": [
        "import os\n",
        "os.chdir(\"/content/gdrive/My Drive/SAKI_2019/dataset\") "
      ],
      "execution_count": 0,
      "outputs": []
    },
    {
      "cell_type": "code",
      "metadata": {
        "id": "l8542ZPSnM_d",
        "colab_type": "code",
        "colab": {}
      },
      "source": [
        "# download flair library #\n",
        "! pip install flair"
      ],
      "execution_count": 0,
      "outputs": []
    },
    {
      "cell_type": "markdown",
      "metadata": {
        "id": "YOWwKlH8QwBU",
        "colab_type": "text"
      },
      "source": [
        "In the next section, we will train a NER model with flair. This code is taken from the flair nlp tutorials section 7. \"Training a model\" \n",
        "https://github.com/zalandoresearch/flair/blob/master/resources/docs/TUTORIAL_7_TRAINING_A_MODEL.md\n",
        "\n"
      ]
    },
    {
      "cell_type": "code",
      "metadata": {
        "id": "Ghp5-JZTRYOb",
        "colab_type": "code",
        "colab": {}
      },
      "source": [
        "# imports \n",
        "from flair.datasets import Corpus\n",
        "from flair.data_fetcher import NLPTaskDataFetcher\n",
        "\n",
        "## make sure this describes your file structure\n",
        "columns = {0: 'text', 1: 'ner'}\n",
        "\n",
        "# folder where training and test data are\n",
        "data_folder = '/content/gdrive/My Drive/SAKI_2019/dataset/flair'\n",
        "\n",
        "# 1.0 is full data, try a much smaller number like 0.1 to test run the code\n",
        "downsample = 0.1 \n",
        "\n",
        "## your train file name\n",
        "train_file = 'train_res_bilou_2.txt'\n",
        "\n",
        "## your test file name\n",
        "test_file = 'test_res_bilou_2.txt'\n",
        "# 1. get the corpus\n",
        "corpus: Corpus = NLPTaskDataFetcher.load_column_corpus(data_folder, columns,\n",
        "                                                             train_file=train_file,\n",
        "                                                             test_file=test_file,\n",
        "                                                           dev_file=None).downsample(downsample)\n",
        "print(corpus)\n",
        "\n",
        "# 3. make the tag dictionary from the corpus\n",
        "tag_dictionary = corpus.make_tag_dictionary(tag_type='ner')\n",
        "print(tag_dictionary.idx2item)\n"
      ],
      "execution_count": 0,
      "outputs": []
    },
    {
      "cell_type": "code",
      "metadata": {
        "id": "o6H1IzUbR5iH",
        "colab_type": "code",
        "colab": {}
      },
      "source": [
        "\n",
        "# 4. initialize embeddings. Experiment with different embedding types to see what gets the best results\n",
        "from flair.embeddings import TokenEmbeddings, WordEmbeddings, StackedEmbeddings,FlairEmbeddings\n",
        "\n",
        "embedding_types: List[TokenEmbeddings] = [\n",
        "    WordEmbeddings('glove'),\n",
        "    # comment in this line to use character embeddings\n",
        "    # CharacterEmbeddings(),\n",
        "\n",
        "    # comment in these lines to use flair embeddings (needs a LONG time to train :-)\n",
        "    #FlairEmbeddings('news-forward'),\n",
        "    #FlairEmbeddings('news-backward'),\n",
        "]\n",
        "\n",
        "embeddings: StackedEmbeddings = StackedEmbeddings(embeddings=embedding_types)\n",
        "\n",
        "# 5. initialize sequence tagger\n",
        "from flair.models import SequenceTagger\n",
        "\n",
        "tagger: SequenceTagger = SequenceTagger(hidden_size=256,\n",
        "                                        embeddings=embeddings,\n",
        "                                        tag_dictionary=tag_dictionary,\n",
        "                                        tag_type='ner',\n",
        "                                        use_crf=True)"
      ],
      "execution_count": 0,
      "outputs": []
    },
    {
      "cell_type": "code",
      "metadata": {
        "id": "xFMA2qsyTvHq",
        "colab_type": "code",
        "colab": {}
      },
      "source": [
        "# 6. initialize trainer\n",
        "from flair.trainers import ModelTrainer\n",
        "\n",
        "trainer: ModelTrainer = ModelTrainer(tagger, corpus)\n",
        "\n",
        "## give your model a name and folder of your choice. Your model will be saved there for loading later \n",
        "## you can run this notebook many times with different embeddings/params and save the models with different names\n",
        "model_name = 'resources/taggers/resume-ner-4'\n",
        "\n",
        "# 7. start training - you can experiment with batch size if you get memory errors\n",
        "# how many epochs does it take before the model stops showing improvement? Start with a big number like 150, and stop the code cell\n",
        "# from running at any time - the framework will persist the best model even if you interrupt training. \n",
        "trainer.train(model_name,\n",
        "              learning_rate=0.1,\n",
        "              mini_batch_size=32,\n",
        "              #anneal_with_restarts=True,\n",
        "              max_epochs=150)\n",
        "\n",
        "\n"
      ],
      "execution_count": 0,
      "outputs": []
    }
  ]
}