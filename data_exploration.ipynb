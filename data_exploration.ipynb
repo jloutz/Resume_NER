{
 "cells": [
  {
   "cell_type": "markdown",
   "metadata": {},
   "source": [
    "# Resume NER\n",
    "## Extract Information from Resumes using NER (Named Entity Recognition)"
   ]
  },
  {
   "cell_type": "markdown",
   "metadata": {},
   "source": [
    "### Part 1 - Data Exploration and preprocessing\n",
    "In this first part of the challenge, we will load and examine the dataset we will be working with. We will also prepare the data for training which we will start in the second part of the challenge. You will be required to program some basic python pertaining to file loading, data conversion, and basic dictionaries and array manipulation. If you are experienced with Python, this will be easy. If you are new to python and/or programming, it will be a good opportunity to learn some basic programming you will need for data loading and exploration.\n",
    "\n",
    "* *If you need help setting up python or running this notebook, please get help from the  assistants to the professor*\n",
    "* *It might be helpful to try your code out first in a python ide like pycharm before copying it an running it here in this notebook*  "
   ]
  },
  {
   "cell_type": "markdown",
   "metadata": {},
   "source": [
    "#### Load the Dataset\n",
    "The dataset we will be using is located in the dataset folder included in the project. Verify the data is available by executing the code cell below "
   ]
  },
  {
   "cell_type": "code",
   "execution_count": null,
   "metadata": {},
   "outputs": [],
   "source": [
    "import os\n",
    "dataset_path = \"../dataset/Entity Recognition in Resumes.json\"\n",
    "print(\"Path exists? {}\".format(os.path.exists(dataset_path)))"
   ]
  },
  {
   "cell_type": "markdown",
   "metadata": {},
   "source": [
    "So far so good? OK then let's load the dataset. The dataset is structured so that each line of text is a resume. \n",
    "You will do the following:\n",
    "1. using python's built-in \"open\" function, get a filehandle to the dataset (tip don't forget the file is utf8!)\n",
    "2. load the data into an array of resumes (each text line is one resume) \n",
    "3. use the print function to print how many resumes were loaded\n",
    "4. use the print function to output one of the resumes so we can see how the resumes look in raw text form \n"
   ]
  },
  {
   "cell_type": "code",
   "execution_count": null,
   "metadata": {},
   "outputs": [],
   "source": [
    "## use the \"open\" function to get a filehandle. \n",
    "with open(dataset_path,encoding=\"utf8\") as f:\n",
    "    ## use the filehandle to read all lines into an array of text lines. \n",
    "    ## print how many lines were loaded\n",
    "    ## now print one resume/line to see how the resumes look in raw text form\n",
    "    print(\"Sample resume:\")\n",
    "    #TODO print sample resume\n"
   ]
  },
  {
   "cell_type": "markdown",
   "metadata": {},
   "source": [
    "#### Convert the dataset to json\n",
    "As we can see, the resumes are not in a convenient human-readable form, but are json dictionaries. We want to work with the resumes as python dictionaries and not as raw text, so we will convert the resumes from text to dictionaries. We will do the following:\n",
    "1. Import the json module\n",
    "2. Loop through all of the text lines and use the json 'loads' function to convert the line to a python dictionary. Tip - you can use a 'for' loop, or if you want to get fancy, a python 'list comprehension' to accomplish this. \n",
    "3. Select one of the converted resumes so that we can examine its structure.   \n"
   ]
  },
  {
   "cell_type": "code",
   "execution_count": null,
   "metadata": {},
   "outputs": [],
   "source": [
    "## import json module to load json strings\n",
    "import json\n",
    "## using a for loop or a list comprehension, cycle through all lines (loaded above) and convert them to dictionaries \n",
    "## using json loads function. Make sure all converted resumes are stored in the 'all_resumes' array below  \n",
    "all_resumes = None\n",
    "## select one resume to examine from the all_resumes list\n",
    "resume = None"
   ]
  },
  {
   "cell_type": "markdown",
   "metadata": {},
   "source": [
    "##### Explore the resume data structure\n",
    "You should have one sample resume saved in the \"resume\" variable. Now we will examine the resume dictionary. Complete the code below to see the keys in the dictionary "
   ]
  },
  {
   "cell_type": "code",
   "execution_count": null,
   "metadata": {},
   "outputs": [],
   "source": [
    "## explore keys in cv\n",
    "print(\"keys and values in resume:\")\n",
    "## TODO print out the keys and values for the sample resume"
   ]
  },
  {
   "cell_type": "markdown",
   "metadata": {},
   "source": [
    "##### Question: which key do you think points to the text content of the resume?\n",
    "*Answer here*\n",
    "##### Question: which key do you think points to the list of entity annotations? \n",
    "*Answer here*"
   ]
  },
  {
   "cell_type": "markdown",
   "metadata": {},
   "source": [
    "Based on your answers above, see if you were right by printing the text content and the entity list by completing and executing the code below"
   ]
  },
  {
   "cell_type": "code",
   "execution_count": null,
   "metadata": {},
   "outputs": [],
   "source": [
    "## TODO print the resume text\n",
    "print(\"resume content:\")\n",
    "## TODO print the resume's list of entity annotations\n",
    "print(\"resume entity list:\")"
   ]
  },
  {
   "cell_type": "markdown",
   "metadata": {},
   "source": [
    "##### Explore the list of entity labels\n",
    "The entity list is a list of dictionaries, we want to explore this list\n",
    "1. Cycle through the entities in the list. You can use a 'for' loop for this\n",
    "2. For each entity - which will be a dictionary - print out each key and each value for the key"
   ]
  },
  {
   "cell_type": "code",
   "execution_count": null,
   "metadata": {},
   "outputs": [],
   "source": [
    "## explore entity list\n",
    "##TODO print out each key and each value for each entity in the entities list"
   ]
  },
  {
   "cell_type": "markdown",
   "metadata": {},
   "source": [
    "##### Question: What keys do the entity entries have? What is the datatype of the values of these keys?\n",
    "*Answer here*\n",
    "##### Question: What do these keys and values mean? (think of their significance as entity labels)\n",
    "*Answer here*"
   ]
  },
  {
   "cell_type": "markdown",
   "metadata": {},
   "source": [
    "##### Convert  data to \"spacy\" offset format\n",
    "Before we go any further, we need to convert the data into a slightly more compact format. This format is the format we will be using to train our first models in the next part of the challenge. Here we will do the following:\n",
    "1. Use the provided data conversion function\n",
    "2. Convert the data with that function, storing the results in a variable\n",
    "3. Inspect the converted data"
   ]
  },
  {
   "cell_type": "code",
   "execution_count": null,
   "metadata": {},
   "outputs": [],
   "source": [
    "## data conversion method\n",
    "def convert_data(data):\n",
    "    \"\"\"\n",
    "    Creates NER training data in Spacy format from JSON dataset\n",
    "    Outputs the Spacy training data which can be used for Spacy training.\n",
    "    \"\"\"\n",
    "    text = data['content']\n",
    "    entities = []\n",
    "    if data['annotation'] is not None:\n",
    "        for annotation in data['annotation']:\n",
    "            # only a single point in text annotation.\n",
    "            point = annotation['points'][0]\n",
    "            labels = annotation['label']\n",
    "            # handle both list of labels or a single label.\n",
    "            if not isinstance(labels, list):\n",
    "                labels = [labels]\n",
    "            for label in labels:\n",
    "                # dataturks indices are both inclusive [start, end] but spacy is not [start, end)\n",
    "                entities.append((point['start'], point['end'] + 1, label))\n",
    "    return (text, {\"entities\": entities})\n",
    "   \n",
    "## TODO using a loop or list comprehension, convert each resume in all_resumes using the convert function above, storing the result\n",
    "converted_resumes = None\n",
    "## TODO print the number of resumes in converted resumes \n",
    "print()"
   ]
  },
  {
   "cell_type": "markdown",
   "metadata": {},
   "source": [
    "##### Question: how is the converted data different than the original data? How is it the same? \n",
    "*Answer here*"
   ]
  },
  {
   "cell_type": "markdown",
   "metadata": {},
   "source": [
    "##### filter out resumes without annotations\n",
    "A few of the resumes have an empty entity list. We want to filter these resumes out of our data before continuing. We will do the following:\n",
    "1. cycle through all resumes using for loop or list comprehension\n",
    "2. for each resume, if the resume has no labled entities, ignore it. Otherwise save it to new resume list "
   ]
  },
  {
   "cell_type": "code",
   "execution_count": null,
   "metadata": {},
   "outputs": [],
   "source": [
    "## TODO filter out resumes where resume entities list is empty (you can do this in a one-line list comprehension)\n",
    "## sove to converted_resumes variable\n",
    "converted_resumes = None\n",
    "## TODO print length of new filtered converted_resumes.  \n",
    "print()"
   ]
  },
  {
   "cell_type": "markdown",
   "metadata": {},
   "source": [
    "##### Print all entities for one converted resume\n",
    "The converted data also has an entity list. You should be able to examine this using similar techniques we have used above on the converted data. In the next code block you will write code that will print all of the entities for one resume. TIP each entity entry in the 'entities' list consists of a start index of the entity in the resume text, an end index, and the entity label. We will do the following:\n",
    "1. Store one converted resume in the 'converted_resume' variable\n",
    "2. Find the entity list in the converted_resume\n",
    "3. Cycle through the entities, and - using the start and end index - print the label of the entity and the value of the entity. This will be the text substring pointed to by the start and end index"
   ]
  },
  {
   "cell_type": "code",
   "execution_count": null,
   "metadata": {},
   "outputs": [],
   "source": [
    "## store one resume in the variable\n",
    "converted_resume = None\n",
    "## find text content and store in variable\n",
    "text = None\n",
    "## find the entities list and store in variable\n",
    "entities_list = None\n",
    "## TODO for each entity, print the label, and the text (text content substring pointed to by start and end index)\n",
    "print()"
   ]
  },
  {
   "cell_type": "markdown",
   "metadata": {},
   "source": [
    "##### Question: What are some of the entity labels you see? Are there any entity values that seem surprising or particularly interesting? \n",
    "*Answer here*"
   ]
  },
  {
   "cell_type": "markdown",
   "metadata": {},
   "source": [
    "##### Collect unique labels of all entities in dataset\n",
    "Now we are interested in finding out all of the (unique) entity labels which exist in our dataset. Complete and execute the code below to do this."
   ]
  },
  {
   "cell_type": "code",
   "execution_count": null,
   "metadata": {},
   "outputs": [],
   "source": [
    "## collect names of all entities in complete resume dataset\n",
    "all_labels = list()\n",
    "for res in converted_resumes:\n",
    "    ## entity list of res\n",
    "    entity_list = None\n",
    "    ## TODO extend all_labels with labels of entities \n",
    "    ##all_labels.           \n",
    "## TODO all_labels is not yet unique. Make the list a set of unique values\n",
    "unique_labels = None\n",
    "## Print unique entity labels\n",
    "print(\"Entity labels: \",unique_labels)"
   ]
  },
  {
   "cell_type": "markdown",
   "metadata": {},
   "source": [
    "Now we see all entity labels in our dataset. Do some of them seem particularly interesting to you? "
   ]
  },
  {
   "cell_type": "markdown",
   "metadata": {},
   "source": [
    "Choose up to 3 Entities from the list that you would like to use for training a named entity recognition model. \n",
    "##### Question: which entities did you choose? \n",
    "*Answer here*"
   ]
  },
  {
   "cell_type": "markdown",
   "metadata": {},
   "source": [
    "##### Validate entities\n",
    "Now we need to check that there is adequate training data for the entities you have chosen. "
   ]
  },
  {
   "cell_type": "code",
   "execution_count": null,
   "metadata": {},
   "outputs": [],
   "source": [
    "## TODO store entity label names for the entities you want to work with in an array \n",
    "chosen_entity_label = None\n",
    "## for each chosen entity label, count how many documents have a labeled entity for that label, and how many labeled entities total there are \n",
    "## for that entity\n",
    "for chosen in chosen_entity_label:\n",
    "    found_docs_with_entity = 0\n",
    "    entity_count = 0\n",
    "    for resume in converted_resumes:\n",
    "        entity_list = resume[1][\"entities\"]\n",
    "        _,_,labels = zip(*entity_list)\n",
    "        if chosen in labels:\n",
    "            found_docs_with_entity+=1\n",
    "            entity_count+=len([l for l in labels if l == chosen])\n",
    "    print(\"Docs with {}: {}\".format(chosen,found_docs_with_entity))\n",
    "    print(\"Total count of {}: {}\".format(chosen,entity_count))"
   ]
  },
  {
   "cell_type": "markdown",
   "metadata": {},
   "source": [
    "#####  Question: Is adequate training data available for the entities you have chosen? (there should be at least several hundered examples total of each entity)\n",
    "*Answer here*"
   ]
  },
  {
   "cell_type": "markdown",
   "metadata": {},
   "source": [
    "##### Save converted data for later use\n",
    "We are almost done with the first part of the challenge! One more detail. We need to save the \"converted_resumes\" list so we can load it in the next notebook. We will do the following:\n",
    "1. Store the location we want to save the data to in the 'converted_resumes_path' variable\n",
    "2. Using python's 'open' function and the 'json' module's 'dump' function, save the data to disk. Make sure to create missing directories (if applicable) using python's \"os.makedirs\" function. Save the file with a \".json\" file extension\n",
    "3. Check the filesystem if the file exists and is complete"
   ]
  },
  {
   "cell_type": "code",
   "execution_count": null,
   "metadata": {},
   "outputs": [],
   "source": [
    "converted_resumes_path = \"../dataset/converted_resumes.json\"\n",
    "##TODO save converted resumes to path using \"open\" and json's \"dump\" function. "
   ]
  },
  {
   "cell_type": "markdown",
   "metadata": {},
   "source": [
    "### Congratulations!\n",
    "We are done with part one. Now we will go on to train our own NER Models with the dataset and the entities we have chosen. "
   ]
  },
  {
   "cell_type": "code",
   "execution_count": null,
   "metadata": {},
   "outputs": [],
   "source": []
  }
 ],
 "metadata": {
  "kernelspec": {
   "display_name": "Python 3",
   "language": "python",
   "name": "python3"
  },
  "language_info": {
   "codemirror_mode": {
    "name": "ipython",
    "version": 3
   },
   "file_extension": ".py",
   "mimetype": "text/x-python",
   "name": "python",
   "nbconvert_exporter": "python",
   "pygments_lexer": "ipython3",
   "version": "3.6.5"
  }
 },
 "nbformat": 4,
 "nbformat_minor": 2
}
